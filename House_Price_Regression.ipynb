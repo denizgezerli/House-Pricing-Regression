{
 "cells": [
  {
   "cell_type": "code",
   "execution_count": null,
   "metadata": {},
   "outputs": [],
   "source": [
    "import pandas as pd\n",
    "import numpy as np\n",
    "from keras.models import Sequential\n",
    "from keras.layers import Dense\n",
    "np.random.seed(42)\n",
    "# github practice"
   ]
  },
  {
   "cell_type": "code",
   "execution_count": null,
   "metadata": {},
   "outputs": [],
   "source": [
    "train=pd.read_csv(\"train.csv\",header=0,index_col=\"Id\")"
   ]
  },
  {
   "cell_type": "code",
   "execution_count": null,
   "metadata": {},
   "outputs": [],
   "source": [
    "train.head()"
   ]
  },
  {
   "cell_type": "code",
   "execution_count": null,
   "metadata": {},
   "outputs": [],
   "source": [
    "train.info()"
   ]
  },
  {
   "cell_type": "code",
   "execution_count": null,
   "metadata": {},
   "outputs": [],
   "source": [
    "train.dropna(thresh=len(train) - 460, axis=1,inplace=True)\n",
    "train.info()"
   ]
  },
  {
   "cell_type": "code",
   "execution_count": null,
   "metadata": {},
   "outputs": [],
   "source": [
    "float_cols = train.select_dtypes(include=['float64']).columns\n",
    "str_cols = train.select_dtypes(include=['object']).columns\n",
    "int_cols=train.select_dtypes(include=['int64']).columns\n",
    "train.loc[:, float_cols] = train.loc[:, float_cols].fillna(train.median())\n",
    "#train.loc[:, str_cols] = train.loc[:, str_cols].fillna('')\n",
    "train.loc[:, int_cols] = train.loc[:, int_cols].fillna(train.median())\n",
    "train=train.dropna()"
   ]
  },
  {
   "cell_type": "code",
   "execution_count": null,
   "metadata": {},
   "outputs": [],
   "source": [
    "train.info()"
   ]
  },
  {
   "cell_type": "code",
   "execution_count": null,
   "metadata": {},
   "outputs": [],
   "source": [
    "test=pd.read_csv(\"test.csv\",header=0,index_col=\"Id\")\n",
    "float_cols = test.select_dtypes(include=['float64']).columns\n",
    "str_cols = test.select_dtypes(include=['object']).columns\n",
    "int_cols=test.select_dtypes(include=['int64']).columns\n",
    "test.loc[:, float_cols] = test.loc[:, float_cols].fillna(test.median())\n",
    "#train.loc[:, str_cols] = train.loc[:, str_cols].fillna('')\n",
    "test.loc[:, int_cols] = test.loc[:, int_cols].fillna(test.median())"
   ]
  },
  {
   "cell_type": "code",
   "execution_count": null,
   "metadata": {},
   "outputs": [],
   "source": [
    "test.dropna(thresh=len(test) - 460, axis=1,inplace=True)\n",
    "test = test.fillna(test.mode().iloc[0])\n",
    "test.info()"
   ]
  },
  {
   "cell_type": "code",
   "execution_count": null,
   "metadata": {},
   "outputs": [],
   "source": [
    "X_train_df=train.drop('SalePrice', axis=1)\n",
    "X_train_df= pd.get_dummies(X_train_df, prefix_sep=\"_\",columns=X_train_df.select_dtypes(include=['object']).columns)\n",
    "x_test_df=test\n",
    "x_test_df= pd.get_dummies(x_test_df, prefix_sep=\"_\",columns=x_test_df.select_dtypes(include=['object']).columns)\n",
    "#this cell does not work with the code below. try to find different columns code.\n",
    "#also, you can fill nans of the test data.\n",
    "\n",
    "different_columns_train=X_train_df.columns.difference(x_test_df.columns)\n",
    "different_columns_train=list(different_columns_train)\n",
    "\n",
    "different_columns_test=x_test_df.columns.difference(X_train_df.columns)\n",
    "different_columns_test=list(different_columns_test)\n",
    "\n",
    "print(\"Columns only X_train_df has: \", different_columns_train)\n",
    "print(\"Columns only X_test_df has: \", different_columns_test)\n"
   ]
  },
  {
   "cell_type": "code",
   "execution_count": null,
   "metadata": {},
   "outputs": [],
   "source": [
    "for i in different_columns_train:\n",
    "    x_test_df[i]=0\n",
    "\n",
    "for i in different_columns_test:\n",
    "    X_train_df[i]=0\n",
    "#set(X_train_df.columns).symmetric_difference(set(x_test_df.columns))\n",
    "different_columns_check=X_train_df.columns.difference(x_test_df.columns)\n",
    "different_columns_check"
   ]
  },
  {
   "cell_type": "code",
   "execution_count": null,
   "metadata": {},
   "outputs": [],
   "source": [
    "\n",
    "X_train_values= X_train_df.values\n",
    "\n",
    "y_train=np.log(train['SalePrice']) \n"
   ]
  },
  {
   "cell_type": "code",
   "execution_count": null,
   "metadata": {},
   "outputs": [],
   "source": [
    "n_cols=X_train_values[1].shape\n",
    "n_cols"
   ]
  },
  {
   "cell_type": "code",
   "execution_count": null,
   "metadata": {},
   "outputs": [],
   "source": [
    "model=Sequential()\n",
    "model.add(Dense(128, activation='relu', input_shape=n_cols ))\n",
    "model.add(Dense(128, activation='relu'))\n",
    "model.add(Dense(128,activation='relu'))\n",
    "model.add(Dense(1))"
   ]
  },
  {
   "cell_type": "code",
   "execution_count": null,
   "metadata": {},
   "outputs": [],
   "source": [
    "from keras.callbacks import EarlyStopping\n",
    "early_stopping_monitor=EarlyStopping(patience=10)\n",
    "from keras import optimizers\n",
    "opt=optimizers.Adam(lr=0.01)\n",
    "#from keras import backend as K\n",
    "#def root_mean_squared_error(y_true, y_pred):\n",
    "        #return K.sqrt(K.mean(K.square(y_pred - y_true)))\n",
    "model.compile(optimizer=opt, loss = \"mean_squared_error\",metrics=['mse'])\n",
    "#from sklearn import preprocessing\n",
    "#X = preprocessing.normalize(X)\n",
    "\n"
   ]
  },
  {
   "cell_type": "code",
   "execution_count": null,
   "metadata": {},
   "outputs": [],
   "source": [
    "model.fit(X_train_values, y_train,validation_split=0.2,batch_size=1024,callbacks=[early_stopping_monitor], epochs=100,verbose=1)\n"
   ]
  },
  {
   "cell_type": "code",
   "execution_count": null,
   "metadata": {},
   "outputs": [],
   "source": [
    "x_test_values=x_test_df.values\n",
    "#x_test_normalized = preprocessing.normalize(x_test_values)\n",
    "\n",
    "y_predicted = model.predict(x_test_values)\n"
   ]
  },
  {
   "cell_type": "code",
   "execution_count": null,
   "metadata": {},
   "outputs": [],
   "source": [
    "y_predicted=np.exp(y_predicted)"
   ]
  },
  {
   "cell_type": "code",
   "execution_count": null,
   "metadata": {},
   "outputs": [],
   "source": [
    "y_predicted"
   ]
  },
  {
   "cell_type": "code",
   "execution_count": null,
   "metadata": {},
   "outputs": [],
   "source": [
    "len(y_predicted)-np.count_nonzero(~np.isnan(y_predicted)) #check if it is there any nan predicted"
   ]
  },
  {
   "cell_type": "code",
   "execution_count": null,
   "metadata": {},
   "outputs": [],
   "source": [
    "results = pd.DataFrame(data=y_predicted, index=x_test_df.index, columns=[\"SalePrice\"])\n",
    "results.head()"
   ]
  },
  {
   "cell_type": "code",
   "execution_count": null,
   "metadata": {},
   "outputs": [],
   "source": [
    "results.reset_index(level=0, inplace=True)\n",
    "results.head(15)"
   ]
  },
  {
   "cell_type": "code",
   "execution_count": null,
   "metadata": {},
   "outputs": [],
   "source": [
    "results.tail(15)"
   ]
  },
  {
   "cell_type": "code",
   "execution_count": null,
   "metadata": {},
   "outputs": [],
   "source": [
    "results.to_csv(\"submission_15_05_v03\",index=False)"
   ]
  },
  {
   "cell_type": "code",
   "execution_count": null,
   "metadata": {},
   "outputs": [],
   "source": []
  }
 ],
 "metadata": {
  "kernelspec": {
   "display_name": "Python 3",
   "language": "python",
   "name": "python3"
  },
  "language_info": {
   "codemirror_mode": {
    "name": "ipython",
    "version": 3
   },
   "file_extension": ".py",
   "mimetype": "text/x-python",
   "name": "python",
   "nbconvert_exporter": "python",
   "pygments_lexer": "ipython3",
   "version": "3.7.0"
  }
 },
 "nbformat": 4,
 "nbformat_minor": 2
}
