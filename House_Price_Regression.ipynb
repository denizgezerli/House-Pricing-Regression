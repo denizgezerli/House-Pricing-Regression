{
 "cells": [
  {
   "cell_type": "code",
   "execution_count": 1,
   "metadata": {},
   "outputs": [
    {
     "name": "stderr",
     "output_type": "stream",
     "text": [
      "Using TensorFlow backend.\n"
     ]
    }
   ],
   "source": [
    "import pandas as pd\n",
    "import numpy as np\n",
    "from keras.models import Sequential\n",
    "from keras.layers import Dense\n",
    "np.random.seed(42)"
   ]
  },
  {
   "cell_type": "code",
   "execution_count": 10,
   "metadata": {},
   "outputs": [],
   "source": [
    "train=pd.read_csv(\"train.csv\",header=0,index_col=\"Id\")"
   ]
  },
  {
   "cell_type": "code",
   "execution_count": null,
   "metadata": {},
   "outputs": [],
   "source": [
    "train.head()"
   ]
  },
  {
   "cell_type": "code",
   "execution_count": null,
   "metadata": {},
   "outputs": [],
   "source": [
    "train.info()"
   ]
  },
  {
   "cell_type": "code",
   "execution_count": 11,
   "metadata": {},
   "outputs": [
    {
     "name": "stdout",
     "output_type": "stream",
     "text": [
      "<class 'pandas.core.frame.DataFrame'>\n",
      "Int64Index: 1460 entries, 1 to 1460\n",
      "Data columns (total 75 columns):\n",
      "MSSubClass       1460 non-null int64\n",
      "MSZoning         1460 non-null object\n",
      "LotFrontage      1201 non-null float64\n",
      "LotArea          1460 non-null int64\n",
      "Street           1460 non-null object\n",
      "LotShape         1460 non-null object\n",
      "LandContour      1460 non-null object\n",
      "Utilities        1460 non-null object\n",
      "LotConfig        1460 non-null object\n",
      "LandSlope        1460 non-null object\n",
      "Neighborhood     1460 non-null object\n",
      "Condition1       1460 non-null object\n",
      "Condition2       1460 non-null object\n",
      "BldgType         1460 non-null object\n",
      "HouseStyle       1460 non-null object\n",
      "OverallQual      1460 non-null int64\n",
      "OverallCond      1460 non-null int64\n",
      "YearBuilt        1460 non-null int64\n",
      "YearRemodAdd     1460 non-null int64\n",
      "RoofStyle        1460 non-null object\n",
      "RoofMatl         1460 non-null object\n",
      "Exterior1st      1460 non-null object\n",
      "Exterior2nd      1460 non-null object\n",
      "MasVnrType       1452 non-null object\n",
      "MasVnrArea       1452 non-null float64\n",
      "ExterQual        1460 non-null object\n",
      "ExterCond        1460 non-null object\n",
      "Foundation       1460 non-null object\n",
      "BsmtQual         1423 non-null object\n",
      "BsmtCond         1423 non-null object\n",
      "BsmtExposure     1422 non-null object\n",
      "BsmtFinType1     1423 non-null object\n",
      "BsmtFinSF1       1460 non-null int64\n",
      "BsmtFinType2     1422 non-null object\n",
      "BsmtFinSF2       1460 non-null int64\n",
      "BsmtUnfSF        1460 non-null int64\n",
      "TotalBsmtSF      1460 non-null int64\n",
      "Heating          1460 non-null object\n",
      "HeatingQC        1460 non-null object\n",
      "CentralAir       1460 non-null object\n",
      "Electrical       1459 non-null object\n",
      "1stFlrSF         1460 non-null int64\n",
      "2ndFlrSF         1460 non-null int64\n",
      "LowQualFinSF     1460 non-null int64\n",
      "GrLivArea        1460 non-null int64\n",
      "BsmtFullBath     1460 non-null int64\n",
      "BsmtHalfBath     1460 non-null int64\n",
      "FullBath         1460 non-null int64\n",
      "HalfBath         1460 non-null int64\n",
      "BedroomAbvGr     1460 non-null int64\n",
      "KitchenAbvGr     1460 non-null int64\n",
      "KitchenQual      1460 non-null object\n",
      "TotRmsAbvGrd     1460 non-null int64\n",
      "Functional       1460 non-null object\n",
      "Fireplaces       1460 non-null int64\n",
      "GarageType       1379 non-null object\n",
      "GarageYrBlt      1379 non-null float64\n",
      "GarageFinish     1379 non-null object\n",
      "GarageCars       1460 non-null int64\n",
      "GarageArea       1460 non-null int64\n",
      "GarageQual       1379 non-null object\n",
      "GarageCond       1379 non-null object\n",
      "PavedDrive       1460 non-null object\n",
      "WoodDeckSF       1460 non-null int64\n",
      "OpenPorchSF      1460 non-null int64\n",
      "EnclosedPorch    1460 non-null int64\n",
      "3SsnPorch        1460 non-null int64\n",
      "ScreenPorch      1460 non-null int64\n",
      "PoolArea         1460 non-null int64\n",
      "MiscVal          1460 non-null int64\n",
      "MoSold           1460 non-null int64\n",
      "YrSold           1460 non-null int64\n",
      "SaleType         1460 non-null object\n",
      "SaleCondition    1460 non-null object\n",
      "SalePrice        1460 non-null int64\n",
      "dtypes: float64(3), int64(34), object(38)\n",
      "memory usage: 866.9+ KB\n"
     ]
    }
   ],
   "source": [
    "train.dropna(thresh=len(train) - 460, axis=1,inplace=True)\n",
    "train.info()"
   ]
  },
  {
   "cell_type": "code",
   "execution_count": 12,
   "metadata": {},
   "outputs": [],
   "source": [
    "float_cols = train.select_dtypes(include=['float64']).columns\n",
    "str_cols = train.select_dtypes(include=['object']).columns\n",
    "int_cols=train.select_dtypes(include=['int64']).columns\n",
    "train.loc[:, float_cols] = train.loc[:, float_cols].fillna(train.median())\n",
    "#train.loc[:, str_cols] = train.loc[:, str_cols].fillna('')\n",
    "train.loc[:, int_cols] = train.loc[:, int_cols].fillna(train.median())\n",
    "train=train.dropna()"
   ]
  },
  {
   "cell_type": "code",
   "execution_count": 13,
   "metadata": {},
   "outputs": [
    {
     "name": "stdout",
     "output_type": "stream",
     "text": [
      "<class 'pandas.core.frame.DataFrame'>\n",
      "Int64Index: 1338 entries, 1 to 1460\n",
      "Data columns (total 75 columns):\n",
      "MSSubClass       1338 non-null int64\n",
      "MSZoning         1338 non-null object\n",
      "LotFrontage      1338 non-null float64\n",
      "LotArea          1338 non-null int64\n",
      "Street           1338 non-null object\n",
      "LotShape         1338 non-null object\n",
      "LandContour      1338 non-null object\n",
      "Utilities        1338 non-null object\n",
      "LotConfig        1338 non-null object\n",
      "LandSlope        1338 non-null object\n",
      "Neighborhood     1338 non-null object\n",
      "Condition1       1338 non-null object\n",
      "Condition2       1338 non-null object\n",
      "BldgType         1338 non-null object\n",
      "HouseStyle       1338 non-null object\n",
      "OverallQual      1338 non-null int64\n",
      "OverallCond      1338 non-null int64\n",
      "YearBuilt        1338 non-null int64\n",
      "YearRemodAdd     1338 non-null int64\n",
      "RoofStyle        1338 non-null object\n",
      "RoofMatl         1338 non-null object\n",
      "Exterior1st      1338 non-null object\n",
      "Exterior2nd      1338 non-null object\n",
      "MasVnrType       1338 non-null object\n",
      "MasVnrArea       1338 non-null float64\n",
      "ExterQual        1338 non-null object\n",
      "ExterCond        1338 non-null object\n",
      "Foundation       1338 non-null object\n",
      "BsmtQual         1338 non-null object\n",
      "BsmtCond         1338 non-null object\n",
      "BsmtExposure     1338 non-null object\n",
      "BsmtFinType1     1338 non-null object\n",
      "BsmtFinSF1       1338 non-null int64\n",
      "BsmtFinType2     1338 non-null object\n",
      "BsmtFinSF2       1338 non-null int64\n",
      "BsmtUnfSF        1338 non-null int64\n",
      "TotalBsmtSF      1338 non-null int64\n",
      "Heating          1338 non-null object\n",
      "HeatingQC        1338 non-null object\n",
      "CentralAir       1338 non-null object\n",
      "Electrical       1338 non-null object\n",
      "1stFlrSF         1338 non-null int64\n",
      "2ndFlrSF         1338 non-null int64\n",
      "LowQualFinSF     1338 non-null int64\n",
      "GrLivArea        1338 non-null int64\n",
      "BsmtFullBath     1338 non-null int64\n",
      "BsmtHalfBath     1338 non-null int64\n",
      "FullBath         1338 non-null int64\n",
      "HalfBath         1338 non-null int64\n",
      "BedroomAbvGr     1338 non-null int64\n",
      "KitchenAbvGr     1338 non-null int64\n",
      "KitchenQual      1338 non-null object\n",
      "TotRmsAbvGrd     1338 non-null int64\n",
      "Functional       1338 non-null object\n",
      "Fireplaces       1338 non-null int64\n",
      "GarageType       1338 non-null object\n",
      "GarageYrBlt      1338 non-null float64\n",
      "GarageFinish     1338 non-null object\n",
      "GarageCars       1338 non-null int64\n",
      "GarageArea       1338 non-null int64\n",
      "GarageQual       1338 non-null object\n",
      "GarageCond       1338 non-null object\n",
      "PavedDrive       1338 non-null object\n",
      "WoodDeckSF       1338 non-null int64\n",
      "OpenPorchSF      1338 non-null int64\n",
      "EnclosedPorch    1338 non-null int64\n",
      "3SsnPorch        1338 non-null int64\n",
      "ScreenPorch      1338 non-null int64\n",
      "PoolArea         1338 non-null int64\n",
      "MiscVal          1338 non-null int64\n",
      "MoSold           1338 non-null int64\n",
      "YrSold           1338 non-null int64\n",
      "SaleType         1338 non-null object\n",
      "SaleCondition    1338 non-null object\n",
      "SalePrice        1338 non-null int64\n",
      "dtypes: float64(3), int64(34), object(38)\n",
      "memory usage: 794.4+ KB\n"
     ]
    }
   ],
   "source": [
    "train.info()"
   ]
  },
  {
   "cell_type": "code",
   "execution_count": 14,
   "metadata": {},
   "outputs": [],
   "source": [
    "X=train.drop('SalePrice', axis=1)\n",
    "X= pd.get_dummies(X, prefix_sep=\"_\",columns=str_cols).values\n",
    "y=np.log(train['SalePrice'])"
   ]
  },
  {
   "cell_type": "code",
   "execution_count": 15,
   "metadata": {},
   "outputs": [
    {
     "data": {
      "text/plain": [
       "(265,)"
      ]
     },
     "execution_count": 15,
     "metadata": {},
     "output_type": "execute_result"
    }
   ],
   "source": [
    "n_cols=X[1].shape\n",
    "n_cols"
   ]
  },
  {
   "cell_type": "code",
   "execution_count": 16,
   "metadata": {},
   "outputs": [
    {
     "name": "stdout",
     "output_type": "stream",
     "text": [
      "WARNING:tensorflow:From C:\\Users\\deniz\\Anaconda3\\lib\\site-packages\\tensorflow\\python\\framework\\op_def_library.py:263: colocate_with (from tensorflow.python.framework.ops) is deprecated and will be removed in a future version.\n",
      "Instructions for updating:\n",
      "Colocations handled automatically by placer.\n"
     ]
    }
   ],
   "source": [
    "model=Sequential()\n",
    "model.add(Dense(16, activation='relu', input_shape=n_cols ))\n",
    "model.add(Dense(16, activation='relu'))\n",
    "#model.add(Dense(64,activation='relu'))\n",
    "model.add(Dense(1))"
   ]
  },
  {
   "cell_type": "code",
   "execution_count": 17,
   "metadata": {},
   "outputs": [],
   "source": [
    "#from keras.callbacks import EarlyStopping\n",
    "#early_stopping_monitor=EarlyStopping(patience=5)\n",
    "#,callbacks=[early_stopping_monitor]\n",
    "\n",
    "#from sklearn import preprocessing\n",
    "#X = preprocessing.normalize(X)\n",
    "\n"
   ]
  },
  {
   "cell_type": "code",
   "execution_count": 18,
   "metadata": {},
   "outputs": [
    {
     "name": "stdout",
     "output_type": "stream",
     "text": [
      "WARNING:tensorflow:From C:\\Users\\deniz\\Anaconda3\\lib\\site-packages\\tensorflow\\python\\ops\\math_ops.py:3066: to_int32 (from tensorflow.python.ops.math_ops) is deprecated and will be removed in a future version.\n",
      "Instructions for updating:\n",
      "Use tf.cast instead.\n",
      "Train on 1070 samples, validate on 268 samples\n",
      "Epoch 1/50\n",
      "100/100 [==============================] - 1s 8ms/step - loss: 584898.4218 - mean_squared_error: 584898.4218 - val_loss: 3821.8054 - val_mean_squared_error: 3821.8054\n",
      "Epoch 2/50\n",
      "100/100 [==============================] - 0s 5ms/step - loss: 891.6777 - mean_squared_error: 891.6777 - val_loss: 1777.3655 - val_mean_squared_error: 1777.3655\n",
      "Epoch 3/50\n",
      "100/100 [==============================] - 0s 5ms/step - loss: 417.0996 - mean_squared_error: 417.0996 - val_loss: 1237.6824 - val_mean_squared_error: 1237.6824\n",
      "Epoch 4/50\n",
      "100/100 [==============================] - 0s 5ms/step - loss: 261.0114 - mean_squared_error: 261.0114 - val_loss: 1025.0579 - val_mean_squared_error: 1025.0579\n",
      "Epoch 5/50\n",
      "100/100 [==============================] - 0s 4ms/step - loss: 190.8354 - mean_squared_error: 190.8354 - val_loss: 932.8914 - val_mean_squared_error: 932.8914\n",
      "Epoch 6/50\n",
      "100/100 [==============================] - 0s 4ms/step - loss: 149.3449 - mean_squared_error: 149.3449 - val_loss: 868.2380 - val_mean_squared_error: 868.2380\n",
      "Epoch 7/50\n",
      "100/100 [==============================] - 0s 4ms/step - loss: 120.0994 - mean_squared_error: 120.0994 - val_loss: 811.2231 - val_mean_squared_error: 811.2231\n",
      "Epoch 8/50\n",
      "100/100 [==============================] - 0s 4ms/step - loss: 97.1513 - mean_squared_error: 97.1513 - val_loss: 733.4780 - val_mean_squared_error: 733.4780\n",
      "Epoch 9/50\n",
      "100/100 [==============================] - 0s 4ms/step - loss: 81.8587 - mean_squared_error: 81.8587 - val_loss: 668.3937 - val_mean_squared_error: 668.3937\n",
      "Epoch 10/50\n",
      "100/100 [==============================] - 0s 4ms/step - loss: 69.4731 - mean_squared_error: 69.4731 - val_loss: 612.4562 - val_mean_squared_error: 612.4562\n",
      "Epoch 11/50\n",
      "100/100 [==============================] - 0s 4ms/step - loss: 58.2117 - mean_squared_error: 58.2117 - val_loss: 562.2039 - val_mean_squared_error: 562.2039\n",
      "Epoch 12/50\n",
      "100/100 [==============================] - 0s 4ms/step - loss: 48.4863 - mean_squared_error: 48.4863 - val_loss: 517.1920 - val_mean_squared_error: 517.1920\n",
      "Epoch 13/50\n",
      "100/100 [==============================] - 0s 4ms/step - loss: 41.0088 - mean_squared_error: 41.0088 - val_loss: 471.0428 - val_mean_squared_error: 471.0428\n",
      "Epoch 14/50\n",
      "100/100 [==============================] - 0s 4ms/step - loss: 35.0174 - mean_squared_error: 35.0174 - val_loss: 426.3336 - val_mean_squared_error: 426.3336\n",
      "Epoch 15/50\n",
      "100/100 [==============================] - 0s 4ms/step - loss: 30.0946 - mean_squared_error: 30.0946 - val_loss: 387.3423 - val_mean_squared_error: 387.3423\n",
      "Epoch 16/50\n",
      "100/100 [==============================] - 0s 4ms/step - loss: 25.7988 - mean_squared_error: 25.7988 - val_loss: 349.4792 - val_mean_squared_error: 349.4792\n",
      "Epoch 17/50\n",
      "100/100 [==============================] - 0s 4ms/step - loss: 22.0533 - mean_squared_error: 22.0533 - val_loss: 314.7684 - val_mean_squared_error: 314.7684\n",
      "Epoch 18/50\n",
      "100/100 [==============================] - 0s 5ms/step - loss: 18.8547 - mean_squared_error: 18.8547 - val_loss: 282.8373 - val_mean_squared_error: 282.8373\n",
      "Epoch 19/50\n",
      "100/100 [==============================] - 0s 4ms/step - loss: 16.1035 - mean_squared_error: 16.1035 - val_loss: 253.9832 - val_mean_squared_error: 253.9832\n",
      "Epoch 20/50\n",
      "100/100 [==============================] - 1s 5ms/step - loss: 13.8073 - mean_squared_error: 13.8073 - val_loss: 228.4598 - val_mean_squared_error: 228.4598\n",
      "Epoch 21/50\n",
      "100/100 [==============================] - 0s 4ms/step - loss: 11.9132 - mean_squared_error: 11.9132 - val_loss: 209.0037 - val_mean_squared_error: 209.0037\n",
      "Epoch 22/50\n",
      "100/100 [==============================] - 0s 4ms/step - loss: 10.3564 - mean_squared_error: 10.3564 - val_loss: 190.2494 - val_mean_squared_error: 190.2494\n",
      "Epoch 23/50\n",
      "100/100 [==============================] - 0s 4ms/step - loss: 9.0982 - mean_squared_error: 9.0982 - val_loss: 173.9467 - val_mean_squared_error: 173.9467\n",
      "Epoch 24/50\n",
      "100/100 [==============================] - 0s 4ms/step - loss: 8.0030 - mean_squared_error: 8.0030 - val_loss: 159.6176 - val_mean_squared_error: 159.6176\n",
      "Epoch 25/50\n",
      "100/100 [==============================] - 0s 4ms/step - loss: 6.9575 - mean_squared_error: 6.9575 - val_loss: 148.1221 - val_mean_squared_error: 148.1221\n",
      "Epoch 26/50\n",
      "100/100 [==============================] - 0s 4ms/step - loss: 6.1306 - mean_squared_error: 6.1306 - val_loss: 138.4433 - val_mean_squared_error: 138.4433\n",
      "Epoch 27/50\n",
      "100/100 [==============================] - 0s 4ms/step - loss: 5.4893 - mean_squared_error: 5.4893 - val_loss: 130.5529 - val_mean_squared_error: 130.5529\n",
      "Epoch 28/50\n",
      "100/100 [==============================] - 0s 5ms/step - loss: 4.9549 - mean_squared_error: 4.9549 - val_loss: 123.6794 - val_mean_squared_error: 123.6794\n",
      "Epoch 29/50\n",
      "100/100 [==============================] - 0s 5ms/step - loss: 4.5107 - mean_squared_error: 4.5107 - val_loss: 118.1633 - val_mean_squared_error: 118.1633\n",
      "Epoch 30/50\n",
      "100/100 [==============================] - 0s 5ms/step - loss: 4.1291 - mean_squared_error: 4.1291 - val_loss: 113.4157 - val_mean_squared_error: 113.4157\n",
      "Epoch 31/50\n",
      "100/100 [==============================] - 0s 5ms/step - loss: 3.8232 - mean_squared_error: 3.8232 - val_loss: 106.5253 - val_mean_squared_error: 106.5253\n",
      "Epoch 32/50\n",
      "100/100 [==============================] - 1s 5ms/step - loss: 3.0921 - mean_squared_error: 3.0921 - val_loss: 104.1434 - val_mean_squared_error: 104.1434\n",
      "Epoch 33/50\n",
      "100/100 [==============================] - 0s 4ms/step - loss: 2.7144 - mean_squared_error: 2.7144 - val_loss: 102.3692 - val_mean_squared_error: 102.3692\n",
      "Epoch 34/50\n",
      "100/100 [==============================] - 0s 4ms/step - loss: 2.4392 - mean_squared_error: 2.4392 - val_loss: 100.5872 - val_mean_squared_error: 100.5872\n",
      "Epoch 35/50\n",
      "100/100 [==============================] - 0s 4ms/step - loss: 2.2435 - mean_squared_error: 2.2435 - val_loss: 99.2206 - val_mean_squared_error: 99.2206\n",
      "Epoch 36/50\n",
      "100/100 [==============================] - 0s 4ms/step - loss: 2.0061 - mean_squared_error: 2.0061 - val_loss: 97.8583 - val_mean_squared_error: 97.8583\n",
      "Epoch 37/50\n",
      "100/100 [==============================] - 1s 5ms/step - loss: 1.9333 - mean_squared_error: 1.9333 - val_loss: 96.6793 - val_mean_squared_error: 96.6793\n",
      "Epoch 38/50\n",
      "100/100 [==============================] - 0s 4ms/step - loss: 1.7295 - mean_squared_error: 1.7295 - val_loss: 93.9462 - val_mean_squared_error: 93.9462\n",
      "Epoch 39/50\n",
      "100/100 [==============================] - 0s 5ms/step - loss: 1.6675 - mean_squared_error: 1.6675 - val_loss: 90.7835 - val_mean_squared_error: 90.7835\n",
      "Epoch 40/50\n",
      "100/100 [==============================] - 0s 5ms/step - loss: 1.5583 - mean_squared_error: 1.5583 - val_loss: 87.5820 - val_mean_squared_error: 87.5820\n",
      "Epoch 41/50\n",
      "100/100 [==============================] - 0s 5ms/step - loss: 1.4672 - mean_squared_error: 1.4672 - val_loss: 83.2815 - val_mean_squared_error: 83.2815\n",
      "Epoch 42/50\n",
      "100/100 [==============================] - 0s 4ms/step - loss: 1.3872 - mean_squared_error: 1.3872 - val_loss: 79.8186 - val_mean_squared_error: 79.8186\n",
      "Epoch 43/50\n",
      "100/100 [==============================] - 0s 4ms/step - loss: 1.3215 - mean_squared_error: 1.3215 - val_loss: 76.7019 - val_mean_squared_error: 76.7019\n",
      "Epoch 44/50\n",
      "100/100 [==============================] - 0s 4ms/step - loss: 1.2447 - mean_squared_error: 1.2447 - val_loss: 73.6957 - val_mean_squared_error: 73.6957\n",
      "Epoch 45/50\n",
      "100/100 [==============================] - 0s 4ms/step - loss: 1.1942 - mean_squared_error: 1.1942 - val_loss: 69.6986 - val_mean_squared_error: 69.6986\n",
      "Epoch 46/50\n",
      "100/100 [==============================] - 0s 4ms/step - loss: 1.1249 - mean_squared_error: 1.1249 - val_loss: 66.5600 - val_mean_squared_error: 66.5600\n",
      "Epoch 47/50\n",
      "100/100 [==============================] - 0s 4ms/step - loss: 1.0768 - mean_squared_error: 1.0768 - val_loss: 63.8524 - val_mean_squared_error: 63.8524\n",
      "Epoch 48/50\n",
      "100/100 [==============================] - 1s 5ms/step - loss: 0.9829 - mean_squared_error: 0.9829 - val_loss: 61.2441 - val_mean_squared_error: 61.2441\n",
      "Epoch 49/50\n",
      "100/100 [==============================] - 0s 4ms/step - loss: 1.0352 - mean_squared_error: 1.0352 - val_loss: 59.1297 - val_mean_squared_error: 59.1297\n",
      "Epoch 50/50\n",
      "100/100 [==============================] - 0s 4ms/step - loss: 0.8655 - mean_squared_error: 0.8655 - val_loss: 57.3988 - val_mean_squared_error: 57.3988\n"
     ]
    },
    {
     "data": {
      "text/plain": [
       "<keras.callbacks.History at 0x165e3c73828>"
      ]
     },
     "execution_count": 18,
     "metadata": {},
     "output_type": "execute_result"
    }
   ],
   "source": [
    "model.compile(optimizer='adam', loss='mean_squared_error',metrics=['mse']) \n",
    "model.fit(X, y,validation_split=0.2,steps_per_epoch=100,validation_steps=10, epochs=50,verbose=1)"
   ]
  },
  {
   "cell_type": "code",
   "execution_count": 19,
   "metadata": {},
   "outputs": [],
   "source": [
    "test=pd.read_csv(\"test.csv\",header=0,index_col=\"Id\")\n",
    "float_cols = test.select_dtypes(include=['float64']).columns\n",
    "str_cols = test.select_dtypes(include=['object']).columns\n",
    "int_cols=test.select_dtypes(include=['int64']).columns\n",
    "test.loc[:, float_cols] = test.loc[:, float_cols].fillna(test.median())\n",
    "#train.loc[:, str_cols] = train.loc[:, str_cols].fillna('')\n",
    "test.loc[:, int_cols] = test.loc[:, int_cols].fillna(test.median())"
   ]
  },
  {
   "cell_type": "code",
   "execution_count": 20,
   "metadata": {},
   "outputs": [
    {
     "name": "stdout",
     "output_type": "stream",
     "text": [
      "<class 'pandas.core.frame.DataFrame'>\n",
      "Int64Index: 1459 entries, 1461 to 2919\n",
      "Data columns (total 74 columns):\n",
      "MSSubClass       1459 non-null int64\n",
      "MSZoning         1455 non-null object\n",
      "LotFrontage      1459 non-null float64\n",
      "LotArea          1459 non-null int64\n",
      "Street           1459 non-null object\n",
      "LotShape         1459 non-null object\n",
      "LandContour      1459 non-null object\n",
      "Utilities        1457 non-null object\n",
      "LotConfig        1459 non-null object\n",
      "LandSlope        1459 non-null object\n",
      "Neighborhood     1459 non-null object\n",
      "Condition1       1459 non-null object\n",
      "Condition2       1459 non-null object\n",
      "BldgType         1459 non-null object\n",
      "HouseStyle       1459 non-null object\n",
      "OverallQual      1459 non-null int64\n",
      "OverallCond      1459 non-null int64\n",
      "YearBuilt        1459 non-null int64\n",
      "YearRemodAdd     1459 non-null int64\n",
      "RoofStyle        1459 non-null object\n",
      "RoofMatl         1459 non-null object\n",
      "Exterior1st      1458 non-null object\n",
      "Exterior2nd      1458 non-null object\n",
      "MasVnrType       1443 non-null object\n",
      "MasVnrArea       1459 non-null float64\n",
      "ExterQual        1459 non-null object\n",
      "ExterCond        1459 non-null object\n",
      "Foundation       1459 non-null object\n",
      "BsmtQual         1415 non-null object\n",
      "BsmtCond         1414 non-null object\n",
      "BsmtExposure     1415 non-null object\n",
      "BsmtFinType1     1417 non-null object\n",
      "BsmtFinSF1       1459 non-null float64\n",
      "BsmtFinType2     1417 non-null object\n",
      "BsmtFinSF2       1459 non-null float64\n",
      "BsmtUnfSF        1459 non-null float64\n",
      "TotalBsmtSF      1459 non-null float64\n",
      "Heating          1459 non-null object\n",
      "HeatingQC        1459 non-null object\n",
      "CentralAir       1459 non-null object\n",
      "Electrical       1459 non-null object\n",
      "1stFlrSF         1459 non-null int64\n",
      "2ndFlrSF         1459 non-null int64\n",
      "LowQualFinSF     1459 non-null int64\n",
      "GrLivArea        1459 non-null int64\n",
      "BsmtFullBath     1459 non-null float64\n",
      "BsmtHalfBath     1459 non-null float64\n",
      "FullBath         1459 non-null int64\n",
      "HalfBath         1459 non-null int64\n",
      "BedroomAbvGr     1459 non-null int64\n",
      "KitchenAbvGr     1459 non-null int64\n",
      "KitchenQual      1458 non-null object\n",
      "TotRmsAbvGrd     1459 non-null int64\n",
      "Functional       1457 non-null object\n",
      "Fireplaces       1459 non-null int64\n",
      "GarageType       1383 non-null object\n",
      "GarageYrBlt      1459 non-null float64\n",
      "GarageFinish     1381 non-null object\n",
      "GarageCars       1459 non-null float64\n",
      "GarageArea       1459 non-null float64\n",
      "GarageQual       1381 non-null object\n",
      "GarageCond       1381 non-null object\n",
      "PavedDrive       1459 non-null object\n",
      "WoodDeckSF       1459 non-null int64\n",
      "OpenPorchSF      1459 non-null int64\n",
      "EnclosedPorch    1459 non-null int64\n",
      "3SsnPorch        1459 non-null int64\n",
      "ScreenPorch      1459 non-null int64\n",
      "PoolArea         1459 non-null int64\n",
      "MiscVal          1459 non-null int64\n",
      "MoSold           1459 non-null int64\n",
      "YrSold           1459 non-null int64\n",
      "SaleType         1458 non-null object\n",
      "SaleCondition    1459 non-null object\n",
      "dtypes: float64(11), int64(25), object(38)\n",
      "memory usage: 854.9+ KB\n"
     ]
    }
   ],
   "source": [
    "test.dropna(thresh=len(test) - 460, axis=1,inplace=True)\n",
    "test.info()"
   ]
  },
  {
   "cell_type": "code",
   "execution_count": 21,
   "metadata": {},
   "outputs": [
    {
     "ename": "KeyError",
     "evalue": "\"Index(['Alley', 'FireplaceQu', 'PoolQC', 'Fence', 'MiscFeature'], dtype='object') not in index\"",
     "output_type": "error",
     "traceback": [
      "\u001b[1;31m---------------------------------------------------------------------------\u001b[0m",
      "\u001b[1;31mKeyError\u001b[0m                                  Traceback (most recent call last)",
      "\u001b[1;32m<ipython-input-21-51abf87ab08d>\u001b[0m in \u001b[0;36m<module>\u001b[1;34m()\u001b[0m\n\u001b[0;32m      1\u001b[0m \u001b[0mX_train_df\u001b[0m\u001b[1;33m=\u001b[0m\u001b[0mtrain\u001b[0m\u001b[1;33m.\u001b[0m\u001b[0mdrop\u001b[0m\u001b[1;33m(\u001b[0m\u001b[1;34m'SalePrice'\u001b[0m\u001b[1;33m,\u001b[0m \u001b[0maxis\u001b[0m\u001b[1;33m=\u001b[0m\u001b[1;36m1\u001b[0m\u001b[1;33m)\u001b[0m\u001b[1;33m\u001b[0m\u001b[0m\n\u001b[1;32m----> 2\u001b[1;33m \u001b[0mX_train_df\u001b[0m\u001b[1;33m=\u001b[0m \u001b[0mpd\u001b[0m\u001b[1;33m.\u001b[0m\u001b[0mget_dummies\u001b[0m\u001b[1;33m(\u001b[0m\u001b[0mX_train_df\u001b[0m\u001b[1;33m,\u001b[0m \u001b[0mprefix_sep\u001b[0m\u001b[1;33m=\u001b[0m\u001b[1;34m\"_\"\u001b[0m\u001b[1;33m,\u001b[0m\u001b[0mcolumns\u001b[0m\u001b[1;33m=\u001b[0m\u001b[0mstr_cols\u001b[0m\u001b[1;33m)\u001b[0m\u001b[1;33m\u001b[0m\u001b[0m\n\u001b[0m\u001b[0;32m      3\u001b[0m \u001b[0mx_test_df\u001b[0m\u001b[1;33m=\u001b[0m\u001b[0mtest\u001b[0m\u001b[1;33m\u001b[0m\u001b[0m\n\u001b[0;32m      4\u001b[0m \u001b[0mx_test_df\u001b[0m\u001b[1;33m=\u001b[0m \u001b[0mpd\u001b[0m\u001b[1;33m.\u001b[0m\u001b[0mget_dummies\u001b[0m\u001b[1;33m(\u001b[0m\u001b[0mx_test_df\u001b[0m\u001b[1;33m,\u001b[0m \u001b[0mprefix_sep\u001b[0m\u001b[1;33m=\u001b[0m\u001b[1;34m\"_\"\u001b[0m\u001b[1;33m,\u001b[0m\u001b[0mcolumns\u001b[0m\u001b[1;33m=\u001b[0m\u001b[0mstr_cols\u001b[0m\u001b[1;33m)\u001b[0m\u001b[1;33m\u001b[0m\u001b[0m\n\u001b[0;32m      5\u001b[0m \u001b[1;33m\u001b[0m\u001b[0m\n",
      "\u001b[1;32m~\\Anaconda3\\lib\\site-packages\\pandas\\core\\reshape\\reshape.py\u001b[0m in \u001b[0;36mget_dummies\u001b[1;34m(data, prefix, prefix_sep, dummy_na, columns, sparse, drop_first, dtype)\u001b[0m\n\u001b[0;32m    842\u001b[0m                 include=dtypes_to_encode)\n\u001b[0;32m    843\u001b[0m         \u001b[1;32melse\u001b[0m\u001b[1;33m:\u001b[0m\u001b[1;33m\u001b[0m\u001b[0m\n\u001b[1;32m--> 844\u001b[1;33m             \u001b[0mdata_to_encode\u001b[0m \u001b[1;33m=\u001b[0m \u001b[0mdata\u001b[0m\u001b[1;33m[\u001b[0m\u001b[0mcolumns\u001b[0m\u001b[1;33m]\u001b[0m\u001b[1;33m\u001b[0m\u001b[0m\n\u001b[0m\u001b[0;32m    845\u001b[0m \u001b[1;33m\u001b[0m\u001b[0m\n\u001b[0;32m    846\u001b[0m         \u001b[1;31m# validate prefixes and separator to avoid silently dropping cols\u001b[0m\u001b[1;33m\u001b[0m\u001b[1;33m\u001b[0m\u001b[0m\n",
      "\u001b[1;32m~\\Anaconda3\\lib\\site-packages\\pandas\\core\\frame.py\u001b[0m in \u001b[0;36m__getitem__\u001b[1;34m(self, key)\u001b[0m\n\u001b[0;32m   2680\u001b[0m         \u001b[1;32mif\u001b[0m \u001b[0misinstance\u001b[0m\u001b[1;33m(\u001b[0m\u001b[0mkey\u001b[0m\u001b[1;33m,\u001b[0m \u001b[1;33m(\u001b[0m\u001b[0mSeries\u001b[0m\u001b[1;33m,\u001b[0m \u001b[0mnp\u001b[0m\u001b[1;33m.\u001b[0m\u001b[0mndarray\u001b[0m\u001b[1;33m,\u001b[0m \u001b[0mIndex\u001b[0m\u001b[1;33m,\u001b[0m \u001b[0mlist\u001b[0m\u001b[1;33m)\u001b[0m\u001b[1;33m)\u001b[0m\u001b[1;33m:\u001b[0m\u001b[1;33m\u001b[0m\u001b[0m\n\u001b[0;32m   2681\u001b[0m             \u001b[1;31m# either boolean or fancy integer index\u001b[0m\u001b[1;33m\u001b[0m\u001b[1;33m\u001b[0m\u001b[0m\n\u001b[1;32m-> 2682\u001b[1;33m             \u001b[1;32mreturn\u001b[0m \u001b[0mself\u001b[0m\u001b[1;33m.\u001b[0m\u001b[0m_getitem_array\u001b[0m\u001b[1;33m(\u001b[0m\u001b[0mkey\u001b[0m\u001b[1;33m)\u001b[0m\u001b[1;33m\u001b[0m\u001b[0m\n\u001b[0m\u001b[0;32m   2683\u001b[0m         \u001b[1;32melif\u001b[0m \u001b[0misinstance\u001b[0m\u001b[1;33m(\u001b[0m\u001b[0mkey\u001b[0m\u001b[1;33m,\u001b[0m \u001b[0mDataFrame\u001b[0m\u001b[1;33m)\u001b[0m\u001b[1;33m:\u001b[0m\u001b[1;33m\u001b[0m\u001b[0m\n\u001b[0;32m   2684\u001b[0m             \u001b[1;32mreturn\u001b[0m \u001b[0mself\u001b[0m\u001b[1;33m.\u001b[0m\u001b[0m_getitem_frame\u001b[0m\u001b[1;33m(\u001b[0m\u001b[0mkey\u001b[0m\u001b[1;33m)\u001b[0m\u001b[1;33m\u001b[0m\u001b[0m\n",
      "\u001b[1;32m~\\Anaconda3\\lib\\site-packages\\pandas\\core\\frame.py\u001b[0m in \u001b[0;36m_getitem_array\u001b[1;34m(self, key)\u001b[0m\n\u001b[0;32m   2724\u001b[0m             \u001b[1;32mreturn\u001b[0m \u001b[0mself\u001b[0m\u001b[1;33m.\u001b[0m\u001b[0m_take\u001b[0m\u001b[1;33m(\u001b[0m\u001b[0mindexer\u001b[0m\u001b[1;33m,\u001b[0m \u001b[0maxis\u001b[0m\u001b[1;33m=\u001b[0m\u001b[1;36m0\u001b[0m\u001b[1;33m)\u001b[0m\u001b[1;33m\u001b[0m\u001b[0m\n\u001b[0;32m   2725\u001b[0m         \u001b[1;32melse\u001b[0m\u001b[1;33m:\u001b[0m\u001b[1;33m\u001b[0m\u001b[0m\n\u001b[1;32m-> 2726\u001b[1;33m             \u001b[0mindexer\u001b[0m \u001b[1;33m=\u001b[0m \u001b[0mself\u001b[0m\u001b[1;33m.\u001b[0m\u001b[0mloc\u001b[0m\u001b[1;33m.\u001b[0m\u001b[0m_convert_to_indexer\u001b[0m\u001b[1;33m(\u001b[0m\u001b[0mkey\u001b[0m\u001b[1;33m,\u001b[0m \u001b[0maxis\u001b[0m\u001b[1;33m=\u001b[0m\u001b[1;36m1\u001b[0m\u001b[1;33m)\u001b[0m\u001b[1;33m\u001b[0m\u001b[0m\n\u001b[0m\u001b[0;32m   2727\u001b[0m             \u001b[1;32mreturn\u001b[0m \u001b[0mself\u001b[0m\u001b[1;33m.\u001b[0m\u001b[0m_take\u001b[0m\u001b[1;33m(\u001b[0m\u001b[0mindexer\u001b[0m\u001b[1;33m,\u001b[0m \u001b[0maxis\u001b[0m\u001b[1;33m=\u001b[0m\u001b[1;36m1\u001b[0m\u001b[1;33m)\u001b[0m\u001b[1;33m\u001b[0m\u001b[0m\n\u001b[0;32m   2728\u001b[0m \u001b[1;33m\u001b[0m\u001b[0m\n",
      "\u001b[1;32m~\\Anaconda3\\lib\\site-packages\\pandas\\core\\indexing.py\u001b[0m in \u001b[0;36m_convert_to_indexer\u001b[1;34m(self, obj, axis, is_setter)\u001b[0m\n\u001b[0;32m   1325\u001b[0m                 \u001b[1;32mif\u001b[0m \u001b[0mmask\u001b[0m\u001b[1;33m.\u001b[0m\u001b[0many\u001b[0m\u001b[1;33m(\u001b[0m\u001b[1;33m)\u001b[0m\u001b[1;33m:\u001b[0m\u001b[1;33m\u001b[0m\u001b[0m\n\u001b[0;32m   1326\u001b[0m                     raise KeyError('{mask} not in index'\n\u001b[1;32m-> 1327\u001b[1;33m                                    .format(mask=objarr[mask]))\n\u001b[0m\u001b[0;32m   1328\u001b[0m \u001b[1;33m\u001b[0m\u001b[0m\n\u001b[0;32m   1329\u001b[0m                 \u001b[1;32mreturn\u001b[0m \u001b[0mcom\u001b[0m\u001b[1;33m.\u001b[0m\u001b[0m_values_from_object\u001b[0m\u001b[1;33m(\u001b[0m\u001b[0mindexer\u001b[0m\u001b[1;33m)\u001b[0m\u001b[1;33m\u001b[0m\u001b[0m\n",
      "\u001b[1;31mKeyError\u001b[0m: \"Index(['Alley', 'FireplaceQu', 'PoolQC', 'Fence', 'MiscFeature'], dtype='object') not in index\""
     ]
    }
   ],
   "source": [
    "X_train_df=train.drop('SalePrice', axis=1)\n",
    "X_train_df= pd.get_dummies(X_train_df, prefix_sep=\"_\",columns=str_cols)\n",
    "x_test_df=test\n",
    "x_test_df= pd.get_dummies(x_test_df, prefix_sep=\"_\",columns=str_cols)\n",
    "#this cell does not work with the code below. try to find different columns code.\n",
    "#also, you can fill nans of the test data.\n",
    "#different_columns=X_train_df.columns.difference(x_test_df.columns)\n",
    "#different_columns=list(different_columns)\n",
    "#different_columns\n"
   ]
  },
  {
   "cell_type": "code",
   "execution_count": null,
   "metadata": {},
   "outputs": [],
   "source": [
    "for i in different_columns:\n",
    "    x_test_df[i]=0\n",
    "set(X_train_df.columns).symmetric_difference(set(x_test_df.columns))"
   ]
  },
  {
   "cell_type": "code",
   "execution_count": null,
   "metadata": {},
   "outputs": [],
   "source": [
    "x_test_values=x_test_df.values\n",
    "\n",
    "#x_test_normalized = preprocessing.normalize(x_test_values)\n",
    "\n",
    "y_predicted = model.predict(x_test_values)\n"
   ]
  },
  {
   "cell_type": "code",
   "execution_count": null,
   "metadata": {},
   "outputs": [],
   "source": [
    "y_predicted=np.exp(y_predicted)"
   ]
  },
  {
   "cell_type": "code",
   "execution_count": null,
   "metadata": {},
   "outputs": [],
   "source": [
    "y_predicted"
   ]
  },
  {
   "cell_type": "code",
   "execution_count": null,
   "metadata": {},
   "outputs": [],
   "source": [
    "len(y_predicted)-np.count_nonzero(~np.isnan(y_predicted))"
   ]
  },
  {
   "cell_type": "code",
   "execution_count": null,
   "metadata": {},
   "outputs": [],
   "source": []
  }
 ],
 "metadata": {
  "kernelspec": {
   "display_name": "Python 3",
   "language": "python",
   "name": "python3"
  },
  "language_info": {
   "codemirror_mode": {
    "name": "ipython",
    "version": 3
   },
   "file_extension": ".py",
   "mimetype": "text/x-python",
   "name": "python",
   "nbconvert_exporter": "python",
   "pygments_lexer": "ipython3",
   "version": "3.7.0"
  }
 },
 "nbformat": 4,
 "nbformat_minor": 2
}
